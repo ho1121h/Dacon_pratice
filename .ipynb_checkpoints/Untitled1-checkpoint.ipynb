{
 "cells": [
  {
   "cell_type": "code",
   "execution_count": 26,
   "id": "add45ef9",
   "metadata": {},
   "outputs": [
    {
     "name": "stdout",
     "output_type": "stream",
     "text": [
      "[8, 13, 20, 25, 42, 45]\n"
     ]
    }
   ],
   "source": [
    "import random\n",
    "def generate_lotto_numbers(special_number, exclude_numbers=[]):\n",
    "    numbers = []\n",
    "    \n",
    "    for _ in range(6):\n",
    "        number = random.randint(1, 45)\n",
    "        while number in numbers and number in exclude_numbers or number == special_number:\n",
    "            number = random.randint(1, 45)\n",
    "        numbers.append(number)\n",
    "    return numbers\n",
    "\n",
    "\n",
    "if __name__ == \"__main__\":\n",
    "    numbers = generate_lotto_numbers(10,exclude_numbers=[1, 2, 3])\n",
    "    numbers.sort()\n",
    "    print(numbers)\n"
   ]
  },
  {
   "cell_type": "code",
   "execution_count": 1,
   "id": "160628e1",
   "metadata": {},
   "outputs": [],
   "source": [
    "websites= (\n",
    "    \"google.com\",\n",
    "    \"airbnb.com\",\n",
    "     \"https://twitter.com\")"
   ]
  },
  {
   "cell_type": "code",
   "execution_count": 5,
   "id": "d74e344c",
   "metadata": {},
   "outputs": [
    {
     "name": "stdout",
     "output_type": "stream",
     "text": [
      "https://google.com\n",
      "https://airbnb.com\n",
      "https://twitter.com\n"
     ]
    }
   ],
   "source": [
    "for website in websites :\n",
    "    if not website.startswith(\"https://\"):\n",
    "        website = f\"https://{website}\"\n",
    "    print(website)"
   ]
  },
  {
   "cell_type": "code",
   "execution_count": null,
   "id": "99068cfb",
   "metadata": {},
   "outputs": [],
   "source": []
  },
  {
   "cell_type": "markdown",
   "id": "fb674433",
   "metadata": {},
   "source": [
    "## 1\n",
    "```python\n",
    "@app.route(\"/\")\n",
    "def hello_world():\n",
    "    return \"<p>Hello, World!</p>\"\n",
    "```\n",
    "@app.route(url) / def : url 요청 시, 함수가 실행되도록 하는 데코레이터\n",
    "즉, url을 함수와 연결\n",
    "return 문자열이 페이지 소스로, 브라우저에 보냄\n",
    "참고링크 - Flask 공식문서\n",
    "## 2.\n",
    "```python\n",
    "def hello_world():\n",
    "    return render_template(\"hello.html\", say=\"hello\")\n",
    "```\n",
    "render_template() : 미리 작성된 template을 이용해서 html 작성\n",
    "template 페이지들은 templates 폴더에 위치\n",
    "temlate에 필요한 변수=값 이용 가능\n",
    "참고링크 - Flask 공식문서\n",
    "\n",
    "## 3.\n",
    "```python\n",
    "def hello_world():\n",
    "    return redirect('/')\n",
    "```\n",
    "redirect(url) : url로 redirect 시킴-\n",
    "참고링크 - Flask 공식문서\n",
    "4. request.args.get('key')\n",
    "url/hello.html?key=value의 key 값(value)\n",
    "참고링크 - Flask 공식문서\n",
    "5. app.run(host=\"0.0.0.0\")\n",
    "Repl.it에서 Flask 실행 시 ip를 0.0.0.0으로 설정\n",
    "참고링크 - Repl.it Community 문서"
   ]
  },
  {
   "cell_type": "code",
   "execution_count": 26,
   "id": "25a37b0f",
   "metadata": {},
   "outputs": [
    {
     "name": "stdout",
     "output_type": "stream",
     "text": [
      " * Serving Flask app \"__main__\" (lazy loading)\n",
      " * Environment: production\n",
      "\u001b[31m   WARNING: This is a development server. Do not use it in a production deployment.\u001b[0m\n",
      "\u001b[2m   Use a production WSGI server instead.\u001b[0m\n",
      " * Debug mode: off\n"
     ]
    },
    {
     "name": "stderr",
     "output_type": "stream",
     "text": [
      " * Running on all addresses.\n",
      "   WARNING: This is a development server. Do not use it in a production deployment.\n",
      " * Running on http://192.168.219.103:5000/ (Press CTRL+C to quit)\n",
      "192.168.219.103 - - [16/Sep/2023 00:48:23] \"GET / HTTP/1.1\" 200 -\n",
      "192.168.219.103 - - [16/Sep/2023 00:48:26] \"GET /search?word=java HTTP/1.1\" 200 -\n"
     ]
    }
   ],
   "source": [
    "from flask import Flask, render_template_string, request\n",
    "import requests\n",
    "from bs4 import BeautifulSoup\n",
    "\n",
    "app = Flask(__name__) # if __name__ == '__main__': 으로 실행\n",
    "\n",
    "@app.route('/')\n",
    "def home():\n",
    "    return render_template_string(\"\"\"\n",
    "        <form action=\"/search\">\n",
    "             <title>Job scraping</title>\n",
    "             <body>\n",
    "        <h1>WELCOME!</h1>\n",
    "        <p>Search your keyword</p>\n",
    "       \n",
    "        </body>\n",
    "             \n",
    "            <input type=\"text\" name=\"word\" required>            \n",
    "            <input type=\"submit\" value=\"Search\">\n",
    "        </form>\n",
    "    \"\"\")# 검색 버튼 설정\n",
    "\n",
    "@app.route('/search')\n",
    "def search():\n",
    "    word = request.args.get('word') # 단어 검색\n",
    "\n",
    "    if not word:\n",
    "        return home()\n",
    "\n",
    "   \n",
    "    url = f\"https://weworkremotely.com/remote-jobs/search?term={word}\"  # 입력한 단어 스크래핑 대상 url 설정\n",
    "    res = requests.get(url) # 설정\n",
    "    soup = BeautifulSoup(res.text, 'html.parser') # 파서 설정\n",
    "    jobs = soup.find_all('li', {'class': 'feature'}) \n",
    "    results = []\n",
    "    for job in jobs:\n",
    "        title = job.find('span', {'class': 'title'}).get_text(strip=True)\n",
    "        company = job.find('span', {'class': 'company'}).get_text(strip=True)\n",
    "        link = job.find('a')['href']\n",
    "        results.append({'title': title, 'company': company, 'link': f\"https://weworkremotely.com{link}\"})\n",
    "\n",
    "        #검색결과를 다시 리턴\n",
    "    html = \"<body>\"\n",
    "    for result in results:\n",
    "        html += f\"<h1> Company : {result['company']} </h1>\"\n",
    "        html += f\"<a> {result['title']} </a>\" \n",
    "                \n",
    "    html += \"</body>\"\n",
    "    \n",
    "    return render_template_string(html) \n",
    "\n",
    "if __name__ == '__main__':\n",
    "    app.run(host='0.0.0.0', port=5000) #서버!!!\n"
   ]
  },
  {
   "cell_type": "code",
   "execution_count": null,
   "id": "e45d585d",
   "metadata": {},
   "outputs": [
    {
     "name": "stdout",
     "output_type": "stream",
     "text": [
      " * Serving Flask app \"__main__\" (lazy loading)\n",
      " * Environment: production\n",
      "\u001b[31m   WARNING: This is a development server. Do not use it in a production deployment.\u001b[0m\n",
      "\u001b[2m   Use a production WSGI server instead.\u001b[0m\n",
      " * Debug mode: off\n"
     ]
    },
    {
     "name": "stderr",
     "output_type": "stream",
     "text": [
      " * Running on all addresses.\n",
      "   WARNING: This is a development server. Do not use it in a production deployment.\n",
      " * Running on http://192.168.219.103:5000/ (Press CTRL+C to quit)\n",
      "192.168.219.103 - - [16/Sep/2023 00:54:17] \"GET / HTTP/1.1\" 200 -\n",
      "192.168.219.103 - - [16/Sep/2023 00:54:20] \"POST / HTTP/1.1\" 200 -\n",
      "192.168.219.103 - - [16/Sep/2023 00:54:25] \"POST / HTTP/1.1\" 200 -\n",
      "192.168.219.103 - - [16/Sep/2023 00:54:28] \"POST / HTTP/1.1\" 200 -\n",
      "127.0.0.1 - - [16/Sep/2023 00:57:17] \"GET / HTTP/1.1\" 200 -\n",
      "127.0.0.1 - - [16/Sep/2023 00:57:18] \"GET /favicon.ico HTTP/1.1\" 404 -\n",
      "127.0.0.1 - - [16/Sep/2023 00:57:21] \"POST / HTTP/1.1\" 200 -\n"
     ]
    }
   ],
   "source": [
    "from flask import Flask, render_template_string, request\n",
    "import requests\n",
    "from bs4 import BeautifulSoup\n",
    "\n",
    "app = Flask(__name__)\n",
    "\n",
    "@app.route('/', methods=['GET', 'POST'])\n",
    "def home():\n",
    "    results = []\n",
    "    if request.method == 'POST':\n",
    "        word = request.form.get('word')\n",
    "        if word:\n",
    "            url = f\"https://weworkremotely.com/remote-jobs/search?term={word}\"\n",
    "            res = requests.get(url)\n",
    "            soup = BeautifulSoup(res.text, 'html.parser')\n",
    "            jobs = soup.find_all('li', {'class': 'feature'})\n",
    "            for job in jobs:\n",
    "                title = job.find('span', {'class': 'title'}).get_text(strip=True)\n",
    "                company = job.find('span', {'class': 'company'}).get_text(strip=True)\n",
    "                link = job.find('a')['href']\n",
    "                results.append({'title': title, 'company': company, 'link': f\"https://weworkremotely.com{link}\"})\n",
    "\n",
    "    html = \"\"\"\n",
    "        <form method=\"post\">\n",
    "            <title>Job scraping</title>\n",
    "             <body>\n",
    "            <h1>WELCOME!</h1>\n",
    "            <p>Search your keyword</p>\n",
    "       \n",
    "            <input type=\"text\" name=\"word\" required>\n",
    "            <input type=\"submit\" value=\"Search\">\n",
    "        </form>\n",
    "    \"\"\"\n",
    "    if results:\n",
    "        html += \"<body>\"\n",
    "        for result in results:\n",
    "            \n",
    "            html += f\"<h1> Company : {result['company']} </h1>\"\n",
    "            html += f\"<a> {result['title']} </a>\" \n",
    "            \n",
    "        html += \"</body>\"\n",
    "    \n",
    "    return render_template_string(html)\n",
    "\n",
    "if __name__ == '__main__':\n",
    "    app.run(host='0.0.0.0', port=5000)\n"
   ]
  },
  {
   "cell_type": "code",
   "execution_count": null,
   "id": "c8c5e3eb",
   "metadata": {},
   "outputs": [],
   "source": []
  }
 ],
 "metadata": {
  "kernelspec": {
   "display_name": "Python 3 (ipykernel)",
   "language": "python",
   "name": "python3"
  },
  "language_info": {
   "codemirror_mode": {
    "name": "ipython",
    "version": 3
   },
   "file_extension": ".py",
   "mimetype": "text/x-python",
   "name": "python",
   "nbconvert_exporter": "python",
   "pygments_lexer": "ipython3",
   "version": "3.9.7"
  }
 },
 "nbformat": 4,
 "nbformat_minor": 5
}
