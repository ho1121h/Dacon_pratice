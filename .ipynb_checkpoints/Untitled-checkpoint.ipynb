{
 "cells": [
  {
   "cell_type": "code",
   "execution_count": 1,
   "id": "10adda3e",
   "metadata": {},
   "outputs": [],
   "source": [
    "# from random import randint\n",
    "# user_choice = int(input(\"choose :\"))\n",
    "# pc_choice = randint(1,50)"
   ]
  },
  {
   "cell_type": "code",
   "execution_count": 2,
   "id": "8b8c060b",
   "metadata": {},
   "outputs": [
    {
     "name": "stdout",
     "output_type": "stream",
     "text": [
      "I'm running : 0\n",
      "I'm runningss : 1\n",
      "I'm running : 1\n",
      "I'm runningss : 2\n",
      "I'm running : 2\n",
      "I'm runningss : 3\n",
      "I'm running : 3\n",
      "I'm runningss : 4\n",
      "I'm running : 4\n",
      "I'm runningss : 5\n",
      "I'm running : 5\n",
      "I'm runningss : 6\n",
      "I'm running : 6\n",
      "I'm runningss : 7\n",
      "I'm running : 7\n",
      "I'm runningss : 8\n",
      "I'm running : 8\n",
      "I'm runningss : 9\n",
      "I'm running : 9\n",
      "I'm runningss : 10\n",
      "I'm running : 10\n",
      "I'm runningss : 11\n",
      "I'm running : 11\n",
      "I'm runningss : 12\n",
      "I'm running : 12\n",
      "I'm runningss : 13\n",
      "I'm running : 13\n",
      "I'm runningss : 14\n",
      "I'm running : 14\n",
      "I'm runningss : 15\n",
      "I'm running : 15\n",
      "I'm runningss : 16\n",
      "I'm running : 16\n",
      "I'm runningss : 17\n",
      "I'm running : 17\n",
      "I'm runningss : 18\n",
      "I'm running : 18\n",
      "I'm runningss : 19\n",
      "I'm running : 19\n",
      "I'm runningss : 20\n"
     ]
    }
   ],
   "source": [
    "distance = 0\n",
    "\n",
    "while distance <20: # if distance <20 // else distance =20 break\n",
    "    print(\"I'm running :\", distance) #\n",
    "    distance +=1 # 20이 되면 더이상 반복진행이 안됨\n",
    "    print(\"I'm runningss :\", distance) #20은 출력은함 탈출을 할뿐,,,"
   ]
  },
  {
   "cell_type": "code",
   "execution_count": 4,
   "id": "768c0740",
   "metadata": {},
   "outputs": [
    {
     "name": "stdout",
     "output_type": "stream",
     "text": [
      "Welcome to Python Casino\n",
      "choose :1\n",
      "high\n",
      "choose :10\n",
      "high\n",
      "choose :50\n",
      "Low!\n",
      "choose :46\n",
      "Low!\n",
      "choose :44\n",
      "Low!\n",
      "choose :55\n",
      "Low!\n",
      "choose :55\n",
      "Low!\n",
      "choose :2\n",
      "high\n",
      "choose :39\n",
      "high\n",
      "choose :40\n",
      "high\n",
      "choose :41\n",
      "high\n",
      "choose :20\n",
      "high\n",
      "choose :10\n",
      "high\n",
      "choose :1\n",
      "high\n",
      "choose :22\n",
      "high\n",
      "choose :40\n",
      "high\n",
      "choose :44\n",
      "Low!\n",
      "choose :43\n",
      "Low!\n",
      "choose :42\n",
      "you won\n"
     ]
    }
   ],
   "source": [
    "from random import randint\n",
    "print(\"Welcome to Python Casino\")\n",
    "\n",
    "pc_choice = randint(1,50)\n",
    "\n",
    "playing = True\n",
    "while playing:\n",
    "    user_choice = int(input(\"choose :\"))\n",
    "\n",
    "    if user_choice == pc_choice:\n",
    "        print(\"굿~\")\n",
    "        playing = False\n",
    "    elif user_choice > pc_choice:\n",
    "        print(\"더 작게 해봐\")\n",
    "    elif user_choice < pc_choice:\n",
    "        print(\"더 높게 해봐\")"
   ]
  },
  {
   "cell_type": "code",
   "execution_count": null,
   "id": "5b790de8",
   "metadata": {},
   "outputs": [],
   "source": []
  }
 ],
 "metadata": {
  "kernelspec": {
   "display_name": "Python 3 (ipykernel)",
   "language": "python",
   "name": "python3"
  },
  "language_info": {
   "codemirror_mode": {
    "name": "ipython",
    "version": 3
   },
   "file_extension": ".py",
   "mimetype": "text/x-python",
   "name": "python",
   "nbconvert_exporter": "python",
   "pygments_lexer": "ipython3",
   "version": "3.9.13"
  }
 },
 "nbformat": 4,
 "nbformat_minor": 5
}
