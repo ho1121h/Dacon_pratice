{
 "cells": [
  {
   "cell_type": "code",
   "execution_count": 26,
   "id": "add45ef9",
   "metadata": {},
   "outputs": [
    {
     "name": "stdout",
     "output_type": "stream",
     "text": [
      "[8, 13, 20, 25, 42, 45]\n"
     ]
    }
   ],
   "source": [
    "import random\n",
    "def generate_lotto_numbers(special_number, exclude_numbers=[]):\n",
    "    numbers = []\n",
    "    \n",
    "    for _ in range(6):\n",
    "        number = random.randint(1, 45)\n",
    "        while number in numbers and number in exclude_numbers or number == special_number:\n",
    "            number = random.randint(1, 45)\n",
    "        numbers.append(number)\n",
    "    return numbers\n",
    "\n",
    "\n",
    "if __name__ == \"__main__\":\n",
    "    numbers = generate_lotto_numbers(10,exclude_numbers=[1, 2, 3])\n",
    "    numbers.sort()\n",
    "    print(numbers)\n"
   ]
  },
  {
   "cell_type": "code",
   "execution_count": 1,
   "id": "160628e1",
   "metadata": {},
   "outputs": [],
   "source": [
    "websites= (\n",
    "    \"google.com\",\n",
    "    \"airbnb.com\",\n",
    "     \"https://twitter.com\")"
   ]
  },
  {
   "cell_type": "code",
   "execution_count": 5,
   "id": "d74e344c",
   "metadata": {},
   "outputs": [
    {
     "name": "stdout",
     "output_type": "stream",
     "text": [
      "https://google.com\n",
      "https://airbnb.com\n",
      "https://twitter.com\n"
     ]
    }
   ],
   "source": [
    "for website in websites :\n",
    "    if not website.startswith(\"https://\"):\n",
    "        website = f\"https://{website}\"\n",
    "    print(website)"
   ]
  },
  {
   "cell_type": "code",
   "execution_count": null,
   "id": "99068cfb",
   "metadata": {},
   "outputs": [],
   "source": [
    "from requests import get\n"
   ]
  }
 ],
 "metadata": {
  "kernelspec": {
   "display_name": "Python 3 (ipykernel)",
   "language": "python",
   "name": "python3"
  },
  "language_info": {
   "codemirror_mode": {
    "name": "ipython",
    "version": 3
   },
   "file_extension": ".py",
   "mimetype": "text/x-python",
   "name": "python",
   "nbconvert_exporter": "python",
   "pygments_lexer": "ipython3",
   "version": "3.9.13"
  }
 },
 "nbformat": 4,
 "nbformat_minor": 5
}
